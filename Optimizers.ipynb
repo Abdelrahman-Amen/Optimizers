{
  "nbformat": 4,
  "nbformat_minor": 0,
  "metadata": {
    "colab": {
      "provenance": []
    },
    "kernelspec": {
      "name": "python3",
      "display_name": "Python 3"
    },
    "language_info": {
      "name": "python"
    }
  },
  "cells": [
    {
      "cell_type": "markdown",
      "source": [
        "Import Libraries"
      ],
      "metadata": {
        "id": "9A6PVDxunkLK"
      }
    },
    {
      "cell_type": "code",
      "execution_count": null,
      "metadata": {
        "id": "BJgd71ByZkZu"
      },
      "outputs": [],
      "source": [
        "import numpy as np\n",
        "import pandas as pd\n",
        "import matplotlib.pyplot as plt\n",
        "import warnings\n",
        "warnings.filterwarnings('ignore')"
      ]
    },
    {
      "cell_type": "markdown",
      "source": [
        "Load Data"
      ],
      "metadata": {
        "id": "whErMXtJno2V"
      }
    },
    {
      "cell_type": "code",
      "source": [
        "import tensorflow as tf"
      ],
      "metadata": {
        "id": "EkbA3hsmZpUt"
      },
      "execution_count": null,
      "outputs": []
    },
    {
      "cell_type": "code",
      "source": [
        "#loading the data\n",
        "(x_train, y_train), (x_test, y_test) = tf.keras.datasets.mnist.load_data()"
      ],
      "metadata": {
        "id": "XCWZ6niCZpXG"
      },
      "execution_count": null,
      "outputs": []
    },
    {
      "cell_type": "markdown",
      "source": [
        "Subset Class 0 and Class 1 from Data"
      ],
      "metadata": {
        "id": "PH_N7GTuoHfw"
      }
    },
    {
      "cell_type": "code",
      "source": [
        "# subsetting for classes 0,1 only\n",
        "\n",
        "x_train = x_train[np.logical_or(y_train == 0, y_train == 1)]\n",
        "y_train = y_train[np.logical_or(y_train == 0, y_train == 1)]\n",
        "\n",
        "x_test = x_test[np.logical_or(y_test == 0, y_test == 1)]\n",
        "y_test = y_test[np.logical_or(y_test == 0, y_test == 1)]\n"
      ],
      "metadata": {
        "id": "70peJs1WZpZ9"
      },
      "execution_count": null,
      "outputs": []
    },
    {
      "cell_type": "code",
      "source": [
        "np.unique(y_train), np.unique(y_test)"
      ],
      "metadata": {
        "colab": {
          "base_uri": "https://localhost:8080/"
        },
        "id": "9K6TH87fZpch",
        "outputId": "cde2fe56-6baf-4f79-cf95-a10ab6254aae"
      },
      "execution_count": null,
      "outputs": [
        {
          "output_type": "execute_result",
          "data": {
            "text/plain": [
              "(array([0, 1], dtype=uint8), array([0, 1], dtype=uint8))"
            ]
          },
          "metadata": {},
          "execution_count": 5
        }
      ]
    },
    {
      "cell_type": "code",
      "source": [
        "x_train=x_train.reshape(len(x_train),-1)"
      ],
      "metadata": {
        "id": "253GDCyLZpgA"
      },
      "execution_count": null,
      "outputs": []
    },
    {
      "cell_type": "code",
      "source": [
        "x_test=x_test.reshape(len(x_test),-1)"
      ],
      "metadata": {
        "id": "Anr1OFiLZpiP"
      },
      "execution_count": null,
      "outputs": []
    },
    {
      "cell_type": "code",
      "source": [
        "x_train.shape[0]"
      ],
      "metadata": {
        "colab": {
          "base_uri": "https://localhost:8080/"
        },
        "id": "RVX1QvgQZpk_",
        "outputId": "703d7b92-bf6d-42a5-ad1a-a3ec81ba2ea7"
      },
      "execution_count": null,
      "outputs": [
        {
          "output_type": "execute_result",
          "data": {
            "text/plain": [
              "12665"
            ]
          },
          "metadata": {},
          "execution_count": 8
        }
      ]
    },
    {
      "cell_type": "markdown",
      "source": [
        "Standardize Data"
      ],
      "metadata": {
        "id": "39dJb98qnrHc"
      }
    },
    {
      "cell_type": "code",
      "source": [
        "x_train=(x_train-np.mean(x_train,axis=0))/(np.std(x_train,axis=0)+10e-16)\n",
        "x_test=(x_test-np.mean(x_test,axis=0))/(np.std(x_test,axis=0)+10e-16)"
      ],
      "metadata": {
        "id": "AFpNzl2uZpuT"
      },
      "execution_count": null,
      "outputs": []
    },
    {
      "cell_type": "markdown",
      "source": [
        "Divide data into training and validation set"
      ],
      "metadata": {
        "id": "rMflcSFYf4m1"
      }
    },
    {
      "cell_type": "code",
      "source": [
        "from sklearn.model_selection import train_test_split\n",
        "X_train, X_validation, Y_train, Y_validation = train_test_split(x_train, y_train, test_size=0.2, random_state=42)"
      ],
      "metadata": {
        "id": "4he3aViUadyj"
      },
      "execution_count": null,
      "outputs": []
    },
    {
      "cell_type": "code",
      "source": [
        "epochs=100\n",
        "eta=0.1\n",
        "tolerance = 10e-8\n",
        "Lambda=[0.01,0.1]\n",
        "#batch_size=10\n",
        "batch_size=[10,20]\n",
        "m = X_train.shape[0]\n",
        "ACCURACY=[]\n",
        "Name=[]"
      ],
      "metadata": {
        "id": "S-uYXY0s_Ibm"
      },
      "execution_count": null,
      "outputs": []
    },
    {
      "cell_type": "markdown",
      "source": [
        "Sigmoid Function"
      ],
      "metadata": {
        "id": "aEVsBL3unuC3"
      }
    },
    {
      "cell_type": "code",
      "source": [
        "def sigmoid(z):\n",
        "    return 1.0 / (1.0 + np.exp(-z))"
      ],
      "metadata": {
        "id": "8ydvrTl9Zp0Q"
      },
      "execution_count": null,
      "outputs": []
    },
    {
      "cell_type": "markdown",
      "source": [
        "*Cost* Function with Lasso (L1) Regularization"
      ],
      "metadata": {
        "id": "2x_nUhVrnuym"
      }
    },
    {
      "cell_type": "code",
      "source": [
        "def cost_function(phiz, Y_train,w,Lambda):\n",
        "    return ((Y_train * np.log(phiz) - (1 - Y_train) * np.log(1 - phiz)).mean())+0.5*Lambda*np.mean(np.abs(w))"
      ],
      "metadata": {
        "id": "osH4CwKdZp2g"
      },
      "execution_count": null,
      "outputs": []
    },
    {
      "cell_type": "markdown",
      "source": [
        "*Cost* Function"
      ],
      "metadata": {
        "id": "HbLICWomcl8N"
      }
    },
    {
      "cell_type": "code",
      "source": [
        "def cost_function(phiz, Y_train,w,Lambda):\n",
        "    return ((Y_train * np.log(phiz) - (1 - Y_train) * np.log(1 - phiz)).mean())"
      ],
      "metadata": {
        "id": "vN1W-PUHcjZV"
      },
      "execution_count": null,
      "outputs": []
    },
    {
      "cell_type": "markdown",
      "source": [
        "Accuracy Function"
      ],
      "metadata": {
        "id": "RFhppZi1nv4-"
      }
    },
    {
      "cell_type": "code",
      "source": [
        "def accuracy(X_validation,w,b):\n",
        "  z=np.dot(X_validation,w.T)+b\n",
        "  y_pred =sigmoid(z)\n",
        "  for i in range(len(y_pred)):\n",
        "    if (y_pred[i]>0.5):\n",
        "     y_pred[i]=1\n",
        "    else:\n",
        "      y_pred[i]=0\n",
        "    accuracy=np.mean(np.equal(y_pred, Y_validation))*100\n",
        "\n",
        "  return accuracy"
      ],
      "metadata": {
        "id": "u5HGFOndfAQa"
      },
      "execution_count": null,
      "outputs": []
    },
    {
      "cell_type": "markdown",
      "source": [
        "Gradient Descent Function"
      ],
      "metadata": {
        "id": "NPVxu31vnwy0"
      }
    },
    {
      "cell_type": "code",
      "source": [
        "def Gradient_Descent(X_train,Y_train,w,b,epochs,eta,Lambda):\n",
        "    for i in range (epochs):\n",
        "          z=np.dot(X_train,w.T)+b\n",
        "          phiZ = sigmoid(z)\n",
        "          Cost[i] =cost_function(phiZ, Y_train,w,Lambda)\n",
        "          w = w - (eta * (np.dot((phiZ - Y_train).T , X_train) /len(X_train)+Lambda/len(X_train)*np.sign(w)))\n",
        "          b = b - eta * np.mean(phiZ - Y_train)\n",
        "          if (Cost[i]<tolerance):\n",
        "            break;\n",
        "\n",
        "    return w,b"
      ],
      "metadata": {
        "id": "jB3vxoblZp8D"
      },
      "execution_count": null,
      "outputs": []
    },
    {
      "cell_type": "code",
      "source": [
        "for lamb in range(len(Lambda)):\n",
        "  w=np.random.rand(784)\n",
        "  b=np.random.rand(1)\n",
        "  Cost=np.zeros(epochs)\n",
        "  w,b=Gradient_Descent(X_train,Y_train,w,b,epochs,eta,Lambda[lamb])\n",
        "  Accuracy=accuracy(X_validation,w,b)\n",
        "  print('Accuracy with Lambda (',Lambda[lamb],') is =',Accuracy)"
      ],
      "metadata": {
        "id": "T_wBzfwB_QD0",
        "colab": {
          "base_uri": "https://localhost:8080/"
        },
        "outputId": "c3c26709-4596-4f4d-8592-4e558e29e91a"
      },
      "execution_count": null,
      "outputs": [
        {
          "output_type": "stream",
          "name": "stdout",
          "text": [
            "Accuracy with Lambda ( 0.01 ) is = 98.85511251480457\n",
            "Accuracy with Lambda ( 0.1 ) is = 98.53928148440583\n"
          ]
        }
      ]
    },
    {
      "cell_type": "code",
      "source": [
        "Accuracy=accuracy(X_validation,w,b)\n",
        "ACCURACY.append(Accuracy)\n",
        "Name.append('Gradient_Descent')\n",
        "Accuracy"
      ],
      "metadata": {
        "colab": {
          "base_uri": "https://localhost:8080/"
        },
        "id": "0SIiR7BchejJ",
        "outputId": "c929f158-fa8b-4df3-afeb-6ce197cbeb54"
      },
      "execution_count": null,
      "outputs": [
        {
          "output_type": "execute_result",
          "data": {
            "text/plain": [
              "98.53928148440583"
            ]
          },
          "metadata": {},
          "execution_count": 18
        }
      ]
    },
    {
      "cell_type": "markdown",
      "source": [
        "Mini_Batch_Gradient_Descent Function"
      ],
      "metadata": {
        "id": "VMY8TdxqnyaN"
      }
    },
    {
      "cell_type": "code",
      "source": [
        "def mini_batch_gradient_descent(X_train, Y_train,w,b,eta, Lambda, batch_size,k):\n",
        "  for i in range(batch_size):\n",
        "     if(i==0):\n",
        "        num_batches=k\n",
        "     xX_train=X_train[:num_batches]\n",
        "     yY_train=Y_train[:num_batches]\n",
        "     w,b=Gradient_Descent(X_train,Y_train,w,b,1,eta,Lambda)\n",
        "     num_batches+=k\n",
        "  return w,b\n",
        "for i in range(len(batch_size)):\n",
        "  k = int(m / batch_size[i])\n",
        "  w=np.random.rand(784)\n",
        "  b=np.random.rand(1)\n",
        "  Cost=np.zeros(epochs)\n",
        "  print('this is the ',i+1,'batch')\n",
        "  for lamb in range(len(Lambda)):\n",
        "    for j in range(epochs):\n",
        "      w,b= mini_batch_gradient_descent(X_train, Y_train,w,b,eta, Lambda[lamb], batch_size[i],k)\n",
        "      z=np.dot(X_train,w.T)+b\n",
        "      phiZ = sigmoid(z)\n",
        "      Cost[j] =cost_function(phiZ, Y_train,w,Lambda[lamb])\n",
        "    Accuracy=accuracy(X_validation,w,b)\n",
        "    print('Accuracy with Lambda (',Lambda[lamb],') is =',Accuracy)"
      ],
      "metadata": {
        "id": "ol2Xq3Di-8cr",
        "colab": {
          "base_uri": "https://localhost:8080/"
        },
        "outputId": "7fc20714-ecbf-4aa5-a993-e5ee65e66881"
      },
      "execution_count": null,
      "outputs": [
        {
          "output_type": "stream",
          "name": "stdout",
          "text": [
            "this is the  1 batch\n",
            "Accuracy with Lambda ( 0.01 ) is = 99.72364784840111\n",
            "Accuracy with Lambda ( 0.1 ) is = 99.64469009080142\n",
            "this is the  2 batch\n",
            "Accuracy with Lambda ( 0.01 ) is = 99.68416896960126\n",
            "Accuracy with Lambda ( 0.1 ) is = 99.64469009080142\n"
          ]
        }
      ]
    },
    {
      "cell_type": "code",
      "source": [
        "Accuracy=accuracy(X_validation,w,b)\n",
        "ACCURACY.append(Accuracy)\n",
        "Name.append('Mini_Batch_Gradient_Descent')\n",
        "Accuracy"
      ],
      "metadata": {
        "colab": {
          "base_uri": "https://localhost:8080/"
        },
        "id": "XFfaKBVIhfku",
        "outputId": "c1ae2cb4-84ea-4edd-cff1-dba46e85b0f4"
      },
      "execution_count": null,
      "outputs": [
        {
          "output_type": "execute_result",
          "data": {
            "text/plain": [
              "99.64469009080142"
            ]
          },
          "metadata": {},
          "execution_count": 20
        }
      ]
    },
    {
      "cell_type": "markdown",
      "source": [
        "RMD_PROP Optimizer Function"
      ],
      "metadata": {
        "id": "u6K5ObXKn0Bk"
      }
    },
    {
      "cell_type": "code",
      "source": [
        "def rms_prop(X_train, Y_train, w, b, eta, Lambda, beta, epsilon):\n",
        "  z=np.dot(X_train,w.T)+b\n",
        "  phiZ = sigmoid(z)\n",
        "  dW = (np.dot((phiZ - Y_train).T , X_train) /len(X_train)+Lambda/len(X_train)*w)\n",
        "  db=np.mean(phiZ - Y_train)\n",
        "  vdw = beta*0+(1 - beta) * np.power(dW, 2)\n",
        "  vdb=beta*0+(1 - beta) * np.power(db, 2)\n",
        "  w= w-(eta / np.sqrt(vdw + epsilon)) * dW\n",
        "  b= b-(eta / np.sqrt(vdb + epsilon)) * db\n",
        "  return w,b\n",
        "\n",
        "w=np.random.rand(784)\n",
        "b=np.random.rand(1)\n",
        "Cost=np.zeros(epochs)\n",
        "beta=0.9\n",
        "epsilon=10e-8\n",
        "for lamb in range(len(Lambda)):\n",
        "  for i in range(epochs):\n",
        "    w,b=rms_prop(X_train, Y_train, w,b, eta, Lambda[lamb], beta, epsilon)\n",
        "    z=np.dot(X_train,w.T)+b\n",
        "    phiZ = sigmoid(z)\n",
        "    Cost[i] =cost_function(phiZ, Y_train,w,Lambda[lamb])\n",
        "  Accuracy=accuracy(X_validation,w,b)\n",
        "  print('Accuracy with Lambda (',Lambda[lamb],') is =',Accuracy)\n",
        ""
      ],
      "metadata": {
        "id": "KxxKVuAKGvHY",
        "colab": {
          "base_uri": "https://localhost:8080/"
        },
        "outputId": "2c755203-6d7a-45e1-a82a-08cab4853c33"
      },
      "execution_count": null,
      "outputs": [
        {
          "output_type": "stream",
          "name": "stdout",
          "text": [
            "Accuracy with Lambda ( 0.01 ) is = 99.76312672720094\n",
            "Accuracy with Lambda ( 0.1 ) is = 99.8026056060008\n"
          ]
        }
      ]
    },
    {
      "cell_type": "code",
      "source": [
        "Accuracy=accuracy(X_validation,w,b)\n",
        "ACCURACY.append(Accuracy)\n",
        "Name.append('RMSPROP Optimizer')\n",
        "Accuracy"
      ],
      "metadata": {
        "colab": {
          "base_uri": "https://localhost:8080/"
        },
        "id": "wuHV4YeMf7td",
        "outputId": "906e40c8-61f1-4e2e-e808-205ff35a56d9"
      },
      "execution_count": null,
      "outputs": [
        {
          "output_type": "execute_result",
          "data": {
            "text/plain": [
              "99.8026056060008"
            ]
          },
          "metadata": {},
          "execution_count": 22
        }
      ]
    },
    {
      "cell_type": "markdown",
      "source": [
        "ADAM Oprimizer Function"
      ],
      "metadata": {
        "id": "gtwwb4j0n1dm"
      }
    },
    {
      "cell_type": "code",
      "source": [
        "def adam(X_train, Y_train, w,b, eta, Lambda, beta1, beta2, epsilon, t):\n",
        "  z=np.dot(X_train,w.T)+b\n",
        "  phiZ = sigmoid(z)\n",
        "  dW = (np.dot((phiZ - Y_train).T , X_train) /len(X_train)+Lambda/len(X_train)*w)\n",
        "  db=np.mean(phiZ - Y_train)\n",
        "  m_w = beta1 * 0 + (1 - beta1) * dW\n",
        "  v_w = beta2 * 0 + (1 - beta2) * np.power(dW, 2)\n",
        "  m_b = beta1 * 0 + (1 - beta1) * db\n",
        "  v_b = beta2 * 0 + (1 - beta2) * np.power(db, 2)\n",
        "  m_hat_w=m_w/(1-np.power(beta1,t))\n",
        "  v_hat_w=v_w/(1-np.power(beta2,t))\n",
        "  m_hat_b=m_b/(1-np.power(beta1,t))\n",
        "  v_hat_b=v_b/(1-np.power(beta2,t))\n",
        "  w=w-(eta/np.sqrt(v_hat_w)+epsilon)*m_hat_w\n",
        "  b=b-(eta/np.sqrt(v_hat_b)+epsilon)*m_hat_b\n",
        "  return w,b\n",
        "\n",
        "w=np.random.rand(784)\n",
        "b=np.random.rand(1)\n",
        "Cost=np.zeros(epochs)\n",
        "beta1=0.9\n",
        "beta2=0.999\n",
        "epsilon=10e-8\n",
        "t=1\n",
        "for lamb in range(len(Lambda)):\n",
        "  for i in range(epochs):\n",
        "    w,b=adam(X_train, Y_train, w,b, eta,Lambda[lamb], beta1,beta2,epsilon,t=i+1)\n",
        "    z=np.dot(X_train,w.T)+b\n",
        "    phiZ = sigmoid(z)\n",
        "    Cost[i] =cost_function(phiZ, Y_train,w,Lambda[lamb])\n",
        "  Accuracy=accuracy(X_validation,w,b)\n",
        "  print('Accuracy with Lambda (',Lambda[lamb],') is =',Accuracy)"
      ],
      "metadata": {
        "id": "ZvL-LjN8GvMZ",
        "colab": {
          "base_uri": "https://localhost:8080/"
        },
        "outputId": "b1e4c847-4daa-4c2b-dc65-0b022077d58f"
      },
      "execution_count": null,
      "outputs": [
        {
          "output_type": "stream",
          "name": "stdout",
          "text": [
            "Accuracy with Lambda ( 0.01 ) is = 99.60521121200158\n",
            "Accuracy with Lambda ( 0.1 ) is = 99.5262534544019\n"
          ]
        }
      ]
    },
    {
      "cell_type": "code",
      "source": [
        "Accuracy=accuracy(X_validation,w,b)\n",
        "ACCURACY.append(Accuracy)\n",
        "Name.append('Adam Optimizer')\n",
        "Accuracy"
      ],
      "metadata": {
        "colab": {
          "base_uri": "https://localhost:8080/"
        },
        "id": "t291sdRy0H8b",
        "outputId": "17a1f214-aae3-472e-b29c-99faf9dbd0bb"
      },
      "execution_count": null,
      "outputs": [
        {
          "output_type": "execute_result",
          "data": {
            "text/plain": [
              "99.5262534544019"
            ]
          },
          "metadata": {},
          "execution_count": 24
        }
      ]
    },
    {
      "cell_type": "code",
      "source": [
        "ACCURACY"
      ],
      "metadata": {
        "colab": {
          "base_uri": "https://localhost:8080/"
        },
        "id": "DB1q56R60L0X",
        "outputId": "1bac80ca-8d1f-4296-c492-338eb2c22524"
      },
      "execution_count": null,
      "outputs": [
        {
          "output_type": "execute_result",
          "data": {
            "text/plain": [
              "[98.53928148440583, 99.64469009080142, 99.8026056060008, 99.5262534544019]"
            ]
          },
          "metadata": {},
          "execution_count": 25
        }
      ]
    },
    {
      "cell_type": "code",
      "source": [
        "# Test with same data and look at the accuracy\n",
        "z=np.dot(x_test,w.T)+b\n",
        "y_pred =sigmoid(z)\n",
        "for i in range(len(y_pred)):\n",
        "  if (y_pred[i]>0.5):\n",
        "     y_pred[i]=1\n",
        "  else:\n",
        "     y_pred[i]=0\n",
        "\n",
        "\n",
        "accuracy=np.mean(np.equal(y_pred, y_test))*100\n",
        "accuracy"
      ],
      "metadata": {
        "colab": {
          "base_uri": "https://localhost:8080/"
        },
        "id": "gRLPMrjzTvzx",
        "outputId": "0e2ee3e9-8db3-4025-85fd-4d9a97b8458e"
      },
      "execution_count": null,
      "outputs": [
        {
          "output_type": "execute_result",
          "data": {
            "text/plain": [
              "99.62174940898345"
            ]
          },
          "metadata": {},
          "execution_count": 26
        }
      ]
    },
    {
      "cell_type": "code",
      "source": [
        "name=pd.DataFrame(Name,columns=['Optimizer'])\n",
        "ACCuracy=pd.DataFrame(ACCURACY,columns=['Accuracy'])"
      ],
      "metadata": {
        "id": "EvXNY1Lx3kn1"
      },
      "execution_count": null,
      "outputs": []
    },
    {
      "cell_type": "code",
      "source": [
        "Table=pd.concat([name,ACCuracy],axis=1)\n",
        "Table"
      ],
      "metadata": {
        "id": "PiULTtOuZqGw",
        "colab": {
          "base_uri": "https://localhost:8080/",
          "height": 175
        },
        "outputId": "d593ed3e-dbad-47a7-c806-1bc88d9c2d23"
      },
      "execution_count": null,
      "outputs": [
        {
          "output_type": "execute_result",
          "data": {
            "text/plain": [
              "                     Optimizer   Accuracy\n",
              "0             Gradient_Descent  98.539281\n",
              "1  Mini_Batch_Gradient_Descent  99.644690\n",
              "2            RMSPROP Optimizer  99.802606\n",
              "3               Adam Optimizer  99.526253"
            ],
            "text/html": [
              "\n",
              "  <div id=\"df-41b1b1c7-b780-4d10-be8a-26bd3f1733de\">\n",
              "    <div class=\"colab-df-container\">\n",
              "      <div>\n",
              "<style scoped>\n",
              "    .dataframe tbody tr th:only-of-type {\n",
              "        vertical-align: middle;\n",
              "    }\n",
              "\n",
              "    .dataframe tbody tr th {\n",
              "        vertical-align: top;\n",
              "    }\n",
              "\n",
              "    .dataframe thead th {\n",
              "        text-align: right;\n",
              "    }\n",
              "</style>\n",
              "<table border=\"1\" class=\"dataframe\">\n",
              "  <thead>\n",
              "    <tr style=\"text-align: right;\">\n",
              "      <th></th>\n",
              "      <th>Optimizer</th>\n",
              "      <th>Accuracy</th>\n",
              "    </tr>\n",
              "  </thead>\n",
              "  <tbody>\n",
              "    <tr>\n",
              "      <th>0</th>\n",
              "      <td>Gradient_Descent</td>\n",
              "      <td>98.539281</td>\n",
              "    </tr>\n",
              "    <tr>\n",
              "      <th>1</th>\n",
              "      <td>Mini_Batch_Gradient_Descent</td>\n",
              "      <td>99.644690</td>\n",
              "    </tr>\n",
              "    <tr>\n",
              "      <th>2</th>\n",
              "      <td>RMSPROP Optimizer</td>\n",
              "      <td>99.802606</td>\n",
              "    </tr>\n",
              "    <tr>\n",
              "      <th>3</th>\n",
              "      <td>Adam Optimizer</td>\n",
              "      <td>99.526253</td>\n",
              "    </tr>\n",
              "  </tbody>\n",
              "</table>\n",
              "</div>\n",
              "      <button class=\"colab-df-convert\" onclick=\"convertToInteractive('df-41b1b1c7-b780-4d10-be8a-26bd3f1733de')\"\n",
              "              title=\"Convert this dataframe to an interactive table.\"\n",
              "              style=\"display:none;\">\n",
              "        \n",
              "  <svg xmlns=\"http://www.w3.org/2000/svg\" height=\"24px\"viewBox=\"0 0 24 24\"\n",
              "       width=\"24px\">\n",
              "    <path d=\"M0 0h24v24H0V0z\" fill=\"none\"/>\n",
              "    <path d=\"M18.56 5.44l.94 2.06.94-2.06 2.06-.94-2.06-.94-.94-2.06-.94 2.06-2.06.94zm-11 1L8.5 8.5l.94-2.06 2.06-.94-2.06-.94L8.5 2.5l-.94 2.06-2.06.94zm10 10l.94 2.06.94-2.06 2.06-.94-2.06-.94-.94-2.06-.94 2.06-2.06.94z\"/><path d=\"M17.41 7.96l-1.37-1.37c-.4-.4-.92-.59-1.43-.59-.52 0-1.04.2-1.43.59L10.3 9.45l-7.72 7.72c-.78.78-.78 2.05 0 2.83L4 21.41c.39.39.9.59 1.41.59.51 0 1.02-.2 1.41-.59l7.78-7.78 2.81-2.81c.8-.78.8-2.07 0-2.86zM5.41 20L4 18.59l7.72-7.72 1.47 1.35L5.41 20z\"/>\n",
              "  </svg>\n",
              "      </button>\n",
              "      \n",
              "  <style>\n",
              "    .colab-df-container {\n",
              "      display:flex;\n",
              "      flex-wrap:wrap;\n",
              "      gap: 12px;\n",
              "    }\n",
              "\n",
              "    .colab-df-convert {\n",
              "      background-color: #E8F0FE;\n",
              "      border: none;\n",
              "      border-radius: 50%;\n",
              "      cursor: pointer;\n",
              "      display: none;\n",
              "      fill: #1967D2;\n",
              "      height: 32px;\n",
              "      padding: 0 0 0 0;\n",
              "      width: 32px;\n",
              "    }\n",
              "\n",
              "    .colab-df-convert:hover {\n",
              "      background-color: #E2EBFA;\n",
              "      box-shadow: 0px 1px 2px rgba(60, 64, 67, 0.3), 0px 1px 3px 1px rgba(60, 64, 67, 0.15);\n",
              "      fill: #174EA6;\n",
              "    }\n",
              "\n",
              "    [theme=dark] .colab-df-convert {\n",
              "      background-color: #3B4455;\n",
              "      fill: #D2E3FC;\n",
              "    }\n",
              "\n",
              "    [theme=dark] .colab-df-convert:hover {\n",
              "      background-color: #434B5C;\n",
              "      box-shadow: 0px 1px 3px 1px rgba(0, 0, 0, 0.15);\n",
              "      filter: drop-shadow(0px 1px 2px rgba(0, 0, 0, 0.3));\n",
              "      fill: #FFFFFF;\n",
              "    }\n",
              "  </style>\n",
              "\n",
              "      <script>\n",
              "        const buttonEl =\n",
              "          document.querySelector('#df-41b1b1c7-b780-4d10-be8a-26bd3f1733de button.colab-df-convert');\n",
              "        buttonEl.style.display =\n",
              "          google.colab.kernel.accessAllowed ? 'block' : 'none';\n",
              "\n",
              "        async function convertToInteractive(key) {\n",
              "          const element = document.querySelector('#df-41b1b1c7-b780-4d10-be8a-26bd3f1733de');\n",
              "          const dataTable =\n",
              "            await google.colab.kernel.invokeFunction('convertToInteractive',\n",
              "                                                     [key], {});\n",
              "          if (!dataTable) return;\n",
              "\n",
              "          const docLinkHtml = 'Like what you see? Visit the ' +\n",
              "            '<a target=\"_blank\" href=https://colab.research.google.com/notebooks/data_table.ipynb>data table notebook</a>'\n",
              "            + ' to learn more about interactive tables.';\n",
              "          element.innerHTML = '';\n",
              "          dataTable['output_type'] = 'display_data';\n",
              "          await google.colab.output.renderOutput(dataTable, element);\n",
              "          const docLink = document.createElement('div');\n",
              "          docLink.innerHTML = docLinkHtml;\n",
              "          element.appendChild(docLink);\n",
              "        }\n",
              "      </script>\n",
              "    </div>\n",
              "  </div>\n",
              "  "
            ]
          },
          "metadata": {},
          "execution_count": 28
        }
      ]
    },
    {
      "cell_type": "markdown",
      "source": [
        "Use L1 regularization with gradient descent optimizer: This involves adding an L1 penalty term to the loss function for your logistic regression model, which encourages sparsity in the model weights. You can train this regularized model using gradient descent optimization, with a learning rate and regularization strength hyperparameters.\n",
        "\n",
        "\n",
        "\n",
        "Use mini-batch gradient descent optimizer: This involves dividing your dataset into multiple batches, and updating the model weights using the gradients computed on each batch. You can train this model using a variety of batch sizes and learning rates, and evaluate its performance on the validation set.\n",
        "\n",
        "\n",
        "Use RMSProp optimizer and Adam optimizer: These are both adaptive optimization algorithms that adjust the learning rate based on the magnitude of the gradients and the history of the parameter updates. You can train your logistic regression model using either of these optimizers, and tune the hyperparameters to obtain the best performance on the validation set."
      ],
      "metadata": {
        "id": "sJ-E_UKSBb8E"
      }
    },
    {
      "cell_type": "markdown",
      "source": [
        "L1 regularization with gradient descent optimizer: The L1 regularization can help to reduce overfitting and improve the generalization performance of the model. The choice of the regularization strength hyperparameter can affect the sparsity of the model weights and its performance on the validation set.\n",
        "\n",
        "Mini-batch gradient descent optimizer: The mini-batch gradient descent can speed up the optimization process and reduce the variance of the gradient estimates. The choice of the batch size hyperparameter can affect the convergence rate and stability of the optimization algorithm.\n",
        "\n",
        "RMSProp optimizer: The RMSProp optimizer can adaptively adjust the learning rate based on the magnitude of the gradients and the history of the parameter updates. It can converge faster than gradient descent and mini-batch gradient descent for certain types of problems.\n",
        "\n",
        "Adam optimizer: The Adam optimizer combines ideas from momentum and RMSProp and is considered a state-of-the-art optimization algorithm. It can converge faster than other optimization algorithms, particularly for large datasets and complex models. However, it may be computationally expensive due to the additional computation required for maintaining the moving averages and may not always converge to the optimal solution."
      ],
      "metadata": {
        "id": "lBgO1HMUB-sd"
      }
    }
  ]
}